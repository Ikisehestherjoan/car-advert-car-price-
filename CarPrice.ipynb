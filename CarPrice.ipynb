{
 "cells": [
  {
   "cell_type": "markdown",
   "id": "1f5c3ae9",
   "metadata": {},
   "source": [
    "## Importing libraries"
   ]
  },
  {
   "cell_type": "code",
   "execution_count": 1,
   "id": "089e041f",
   "metadata": {},
   "outputs": [],
   "source": [
    "import pandas as pd\n",
    "import numpy as np\n",
    "# generate gaussian data\n",
    "from numpy.random import seed, randn\n",
    "from numpy import mean, std\n",
    "import matplotlib.pyplot as plt\n",
    "import seaborn as sns\n",
    "import warnings # current version of seaborn generates a bunch of warnings that we'll ignore\n",
    "warnings.filterwarnings(\"ignore\")"
   ]
  },
  {
   "cell_type": "code",
   "execution_count": 2,
   "id": "6a09b78c",
   "metadata": {},
   "outputs": [],
   "source": [
    "df = pd.read_csv(\"car_price_prediction.csv\")"
   ]
  },
  {
   "cell_type": "code",
   "execution_count": 3,
   "id": "0d70b1ac",
   "metadata": {},
   "outputs": [
    {
     "data": {
      "text/html": [
       "<div>\n",
       "<style scoped>\n",
       "    .dataframe tbody tr th:only-of-type {\n",
       "        vertical-align: middle;\n",
       "    }\n",
       "\n",
       "    .dataframe tbody tr th {\n",
       "        vertical-align: top;\n",
       "    }\n",
       "\n",
       "    .dataframe thead th {\n",
       "        text-align: right;\n",
       "    }\n",
       "</style>\n",
       "<table border=\"1\" class=\"dataframe\">\n",
       "  <thead>\n",
       "    <tr style=\"text-align: right;\">\n",
       "      <th></th>\n",
       "      <th>ID</th>\n",
       "      <th>Price</th>\n",
       "      <th>Levy</th>\n",
       "      <th>Manufacturer</th>\n",
       "      <th>Model</th>\n",
       "      <th>Prod. year</th>\n",
       "      <th>Category</th>\n",
       "      <th>Leather interior</th>\n",
       "      <th>Fuel type</th>\n",
       "      <th>Engine volume</th>\n",
       "      <th>Mileage</th>\n",
       "      <th>Cylinders</th>\n",
       "      <th>Gear box type</th>\n",
       "      <th>Drive wheels</th>\n",
       "      <th>Doors</th>\n",
       "      <th>Wheel</th>\n",
       "      <th>Color</th>\n",
       "      <th>Airbags</th>\n",
       "    </tr>\n",
       "  </thead>\n",
       "  <tbody>\n",
       "    <tr>\n",
       "      <th>0</th>\n",
       "      <td>45654403</td>\n",
       "      <td>13328</td>\n",
       "      <td>1399</td>\n",
       "      <td>LEXUS</td>\n",
       "      <td>RX 450</td>\n",
       "      <td>2010</td>\n",
       "      <td>Jeep</td>\n",
       "      <td>Yes</td>\n",
       "      <td>Hybrid</td>\n",
       "      <td>3.5</td>\n",
       "      <td>186005 km</td>\n",
       "      <td>6.0</td>\n",
       "      <td>Automatic</td>\n",
       "      <td>4x4</td>\n",
       "      <td>04-May</td>\n",
       "      <td>Left wheel</td>\n",
       "      <td>Silver</td>\n",
       "      <td>12</td>\n",
       "    </tr>\n",
       "    <tr>\n",
       "      <th>1</th>\n",
       "      <td>44731507</td>\n",
       "      <td>16621</td>\n",
       "      <td>1018</td>\n",
       "      <td>CHEVROLET</td>\n",
       "      <td>Equinox</td>\n",
       "      <td>2011</td>\n",
       "      <td>Jeep</td>\n",
       "      <td>No</td>\n",
       "      <td>Petrol</td>\n",
       "      <td>3</td>\n",
       "      <td>192000 km</td>\n",
       "      <td>6.0</td>\n",
       "      <td>Tiptronic</td>\n",
       "      <td>4x4</td>\n",
       "      <td>04-May</td>\n",
       "      <td>Left wheel</td>\n",
       "      <td>Black</td>\n",
       "      <td>8</td>\n",
       "    </tr>\n",
       "    <tr>\n",
       "      <th>2</th>\n",
       "      <td>45774419</td>\n",
       "      <td>8467</td>\n",
       "      <td>-</td>\n",
       "      <td>HONDA</td>\n",
       "      <td>FIT</td>\n",
       "      <td>2006</td>\n",
       "      <td>Hatchback</td>\n",
       "      <td>No</td>\n",
       "      <td>Petrol</td>\n",
       "      <td>1.3</td>\n",
       "      <td>200000 km</td>\n",
       "      <td>4.0</td>\n",
       "      <td>Variator</td>\n",
       "      <td>Front</td>\n",
       "      <td>04-May</td>\n",
       "      <td>Right-hand drive</td>\n",
       "      <td>Black</td>\n",
       "      <td>2</td>\n",
       "    </tr>\n",
       "    <tr>\n",
       "      <th>3</th>\n",
       "      <td>45769185</td>\n",
       "      <td>3607</td>\n",
       "      <td>862</td>\n",
       "      <td>FORD</td>\n",
       "      <td>Escape</td>\n",
       "      <td>2011</td>\n",
       "      <td>Jeep</td>\n",
       "      <td>Yes</td>\n",
       "      <td>Hybrid</td>\n",
       "      <td>2.5</td>\n",
       "      <td>168966 km</td>\n",
       "      <td>4.0</td>\n",
       "      <td>Automatic</td>\n",
       "      <td>4x4</td>\n",
       "      <td>04-May</td>\n",
       "      <td>Left wheel</td>\n",
       "      <td>White</td>\n",
       "      <td>0</td>\n",
       "    </tr>\n",
       "    <tr>\n",
       "      <th>4</th>\n",
       "      <td>45809263</td>\n",
       "      <td>11726</td>\n",
       "      <td>446</td>\n",
       "      <td>HONDA</td>\n",
       "      <td>FIT</td>\n",
       "      <td>2014</td>\n",
       "      <td>Hatchback</td>\n",
       "      <td>Yes</td>\n",
       "      <td>Petrol</td>\n",
       "      <td>1.3</td>\n",
       "      <td>91901 km</td>\n",
       "      <td>4.0</td>\n",
       "      <td>Automatic</td>\n",
       "      <td>Front</td>\n",
       "      <td>04-May</td>\n",
       "      <td>Left wheel</td>\n",
       "      <td>Silver</td>\n",
       "      <td>4</td>\n",
       "    </tr>\n",
       "  </tbody>\n",
       "</table>\n",
       "</div>"
      ],
      "text/plain": [
       "         ID  Price  Levy Manufacturer    Model  Prod. year   Category  \\\n",
       "0  45654403  13328  1399        LEXUS   RX 450        2010       Jeep   \n",
       "1  44731507  16621  1018    CHEVROLET  Equinox        2011       Jeep   \n",
       "2  45774419   8467     -        HONDA      FIT        2006  Hatchback   \n",
       "3  45769185   3607   862         FORD   Escape        2011       Jeep   \n",
       "4  45809263  11726   446        HONDA      FIT        2014  Hatchback   \n",
       "\n",
       "  Leather interior Fuel type Engine volume    Mileage  Cylinders  \\\n",
       "0              Yes    Hybrid           3.5  186005 km        6.0   \n",
       "1               No    Petrol             3  192000 km        6.0   \n",
       "2               No    Petrol           1.3  200000 km        4.0   \n",
       "3              Yes    Hybrid           2.5  168966 km        4.0   \n",
       "4              Yes    Petrol           1.3   91901 km        4.0   \n",
       "\n",
       "  Gear box type Drive wheels   Doors             Wheel   Color  Airbags  \n",
       "0     Automatic          4x4  04-May        Left wheel  Silver       12  \n",
       "1     Tiptronic          4x4  04-May        Left wheel   Black        8  \n",
       "2      Variator        Front  04-May  Right-hand drive   Black        2  \n",
       "3     Automatic          4x4  04-May        Left wheel   White        0  \n",
       "4     Automatic        Front  04-May        Left wheel  Silver        4  "
      ]
     },
     "execution_count": 3,
     "metadata": {},
     "output_type": "execute_result"
    }
   ],
   "source": [
    "df.head()"
   ]
  },
  {
   "cell_type": "code",
   "execution_count": 4,
   "id": "002f48dd",
   "metadata": {},
   "outputs": [
    {
     "name": "stdout",
     "output_type": "stream",
     "text": [
      "<class 'pandas.core.frame.DataFrame'>\n",
      "RangeIndex: 19237 entries, 0 to 19236\n",
      "Data columns (total 18 columns):\n",
      " #   Column            Non-Null Count  Dtype  \n",
      "---  ------            --------------  -----  \n",
      " 0   ID                19237 non-null  int64  \n",
      " 1   Price             19237 non-null  int64  \n",
      " 2   Levy              19237 non-null  object \n",
      " 3   Manufacturer      19237 non-null  object \n",
      " 4   Model             19237 non-null  object \n",
      " 5   Prod. year        19237 non-null  int64  \n",
      " 6   Category          19237 non-null  object \n",
      " 7   Leather interior  19237 non-null  object \n",
      " 8   Fuel type         19237 non-null  object \n",
      " 9   Engine volume     19237 non-null  object \n",
      " 10  Mileage           19237 non-null  object \n",
      " 11  Cylinders         19237 non-null  float64\n",
      " 12  Gear box type     19237 non-null  object \n",
      " 13  Drive wheels      19237 non-null  object \n",
      " 14  Doors             19237 non-null  object \n",
      " 15  Wheel             19237 non-null  object \n",
      " 16  Color             19237 non-null  object \n",
      " 17  Airbags           19237 non-null  int64  \n",
      "dtypes: float64(1), int64(4), object(13)\n",
      "memory usage: 2.6+ MB\n"
     ]
    }
   ],
   "source": [
    "df.info()"
   ]
  },
  {
   "cell_type": "markdown",
   "id": "2573063e",
   "metadata": {},
   "source": [
    "## Data cleaning and Analysis"
   ]
  },
  {
   "cell_type": "code",
   "execution_count": 5,
   "id": "e2456165",
   "metadata": {},
   "outputs": [
    {
     "data": {
      "text/plain": [
       "313"
      ]
     },
     "execution_count": 5,
     "metadata": {},
     "output_type": "execute_result"
    }
   ],
   "source": [
    "# Since there are no missing values, lets check for duplicate values\n",
    "df.duplicated().sum()"
   ]
  },
  {
   "cell_type": "code",
   "execution_count": 6,
   "id": "72bd3f24",
   "metadata": {},
   "outputs": [],
   "source": [
    "# lets drop duplicate values\n",
    "df.drop_duplicates(inplace=True)"
   ]
  },
  {
   "cell_type": "code",
   "execution_count": 7,
   "id": "c9d26484",
   "metadata": {},
   "outputs": [
    {
     "name": "stdout",
     "output_type": "stream",
     "text": [
      "<class 'pandas.core.frame.DataFrame'>\n",
      "Int64Index: 18924 entries, 0 to 19236\n",
      "Data columns (total 18 columns):\n",
      " #   Column            Non-Null Count  Dtype  \n",
      "---  ------            --------------  -----  \n",
      " 0   ID                18924 non-null  int64  \n",
      " 1   Price             18924 non-null  int64  \n",
      " 2   Levy              18924 non-null  object \n",
      " 3   Manufacturer      18924 non-null  object \n",
      " 4   Model             18924 non-null  object \n",
      " 5   Prod. year        18924 non-null  int64  \n",
      " 6   Category          18924 non-null  object \n",
      " 7   Leather interior  18924 non-null  object \n",
      " 8   Fuel type         18924 non-null  object \n",
      " 9   Engine volume     18924 non-null  object \n",
      " 10  Mileage           18924 non-null  object \n",
      " 11  Cylinders         18924 non-null  float64\n",
      " 12  Gear box type     18924 non-null  object \n",
      " 13  Drive wheels      18924 non-null  object \n",
      " 14  Doors             18924 non-null  object \n",
      " 15  Wheel             18924 non-null  object \n",
      " 16  Color             18924 non-null  object \n",
      " 17  Airbags           18924 non-null  int64  \n",
      "dtypes: float64(1), int64(4), object(13)\n",
      "memory usage: 2.7+ MB\n"
     ]
    }
   ],
   "source": [
    "#checking if change has been applied\n",
    "df.info()"
   ]
  },
  {
   "cell_type": "code",
   "execution_count": 8,
   "id": "a89d249b",
   "metadata": {},
   "outputs": [],
   "source": [
    "# ID,wheel,doors,leather interior,cylinder and levy column is not really needed for the analysis, so lets remove it from the dataset\n",
    "df.drop(['ID','Wheel','Doors','Leather interior','Cylinders','Levy','Drive wheels','Engine volume',], axis=1, inplace=True)"
   ]
  },
  {
   "cell_type": "markdown",
   "id": "8dc26e80",
   "metadata": {},
   "source": [
    "lets remove some characters and update some of the data type"
   ]
  },
  {
   "cell_type": "code",
   "execution_count": 9,
   "id": "55ee9a1c",
   "metadata": {},
   "outputs": [],
   "source": [
    "df['Price'] = df['Price'].astype('float')\n",
    "df['Mileage'] = df['Mileage'].str.replace('km','').astype(float)\n"
   ]
  },
  {
   "cell_type": "code",
   "execution_count": 10,
   "id": "7076005c",
   "metadata": {},
   "outputs": [
    {
     "name": "stdout",
     "output_type": "stream",
     "text": [
      "<class 'pandas.core.frame.DataFrame'>\n",
      "Int64Index: 18924 entries, 0 to 19236\n",
      "Data columns (total 10 columns):\n",
      " #   Column         Non-Null Count  Dtype  \n",
      "---  ------         --------------  -----  \n",
      " 0   Price          18924 non-null  float64\n",
      " 1   Manufacturer   18924 non-null  object \n",
      " 2   Model          18924 non-null  object \n",
      " 3   Prod. year     18924 non-null  int64  \n",
      " 4   Category       18924 non-null  object \n",
      " 5   Fuel type      18924 non-null  object \n",
      " 6   Mileage        18924 non-null  float64\n",
      " 7   Gear box type  18924 non-null  object \n",
      " 8   Color          18924 non-null  object \n",
      " 9   Airbags        18924 non-null  int64  \n",
      "dtypes: float64(2), int64(2), object(6)\n",
      "memory usage: 1.6+ MB\n"
     ]
    }
   ],
   "source": [
    "# lets check if change is applied\n",
    "df.info()"
   ]
  },
  {
   "cell_type": "code",
   "execution_count": 11,
   "id": "6ecf4e2f",
   "metadata": {},
   "outputs": [
    {
     "data": {
      "text/plain": [
       "<AxesSubplot:>"
      ]
     },
     "execution_count": 11,
     "metadata": {},
     "output_type": "execute_result"
    },
    {
     "data": {
      "image/png": "[encoded data removed]",
      "text/plain": [
       "<Figure size 640x480 with 2 Axes>"
      ]
     },
     "metadata": {},
     "output_type": "display_data"
    }
   ],
   "source": [
    "# Lets look at correlation of columns amongs themselves\n",
    "sns.heatmap(df.corr(), annot=True)"
   ]
  },
  {
   "cell_type": "code",
   "execution_count": 12,
   "id": "c9d4a041",
   "metadata": {},
   "outputs": [
    {
     "data": {
      "image/png": "[encoded data removed]",
      "text/plain": [
       "<Figure size 1000x1000 with 1 Axes>"
      ]
     },
     "metadata": {},
     "output_type": "display_data"
    }
   ],
   "source": [
    "plt.figure(figsize=[10,10])\n",
    "plt.barh(df['Color'], df['Price']);\n",
    "plt.title('car color vs price');\n",
    "plt.xlabel('Price')\n",
    "plt.ylabel('Car Colors');"
   ]
  },
  {
   "cell_type": "markdown",
   "id": "c2af75d4",
   "metadata": {},
   "source": [
    "From the graph we notice that blue cars are the most expensive cars"
   ]
  },
  {
   "cell_type": "code",
   "execution_count": 13,
   "id": "c1f0269c",
   "metadata": {},
   "outputs": [],
   "source": [
    "def top_ten(df, column, t, x_label, y_label):\n",
    "    df[column].value_counts()[:10].plot(kind='bar');\n",
    "    plt.title(t);\n",
    "    plt.xlabel(x_label)\n",
    "    plt.ylabel(y_label);"
   ]
  },
  {
   "cell_type": "code",
   "execution_count": 14,
   "id": "7a6d83a0",
   "metadata": {},
   "outputs": [
    {
     "data": {
      "image/png": "[encoded data removed]",
      "text/plain": [
       "<Figure size 640x480 with 1 Axes>"
      ]
     },
     "metadata": {},
     "output_type": "display_data"
    }
   ],
   "source": [
    "# most frequent car model\n",
    "top_ten(df, 'Model', 'top 10 most frequent model',\n",
    "       'car models', 'count')"
   ]
  },
  {
   "cell_type": "markdown",
   "id": "7742cb30",
   "metadata": {},
   "source": [
    "The above graph shows the top 10 standard car models listed on the dataset with Prius followed by Sonata being the most listed among other car models."
   ]
  },
  {
   "cell_type": "code",
   "execution_count": 15,
   "id": "14223bdf",
   "metadata": {},
   "outputs": [],
   "source": [
    "prius = df[df['Model'] == 'Prius']"
   ]
  },
  {
   "cell_type": "code",
   "execution_count": 16,
   "id": "08064b6e",
   "metadata": {},
   "outputs": [
    {
     "data": {
      "text/plain": [
       "count     1069.000000\n",
       "mean     11436.182413\n",
       "std       8089.894513\n",
       "min          9.000000\n",
       "25%       2352.000000\n",
       "50%      12544.000000\n",
       "75%      17249.000000\n",
       "max      53314.000000\n",
       "Name: Price, dtype: float64"
      ]
     },
     "execution_count": 16,
     "metadata": {},
     "output_type": "execute_result"
    }
   ],
   "source": [
    "prius.Price.describe()"
   ]
  },
  {
   "cell_type": "markdown",
   "id": "65f3e145",
   "metadata": {},
   "source": [
    "We can see that 50% of Prius cars are sold at the price of 12,544 dollars, while the maximum price for a Prius car is 53,314 dollars. The lowest price listed on a Prius car is $9."
   ]
  },
  {
   "cell_type": "code",
   "execution_count": 17,
   "id": "0a136e75",
   "metadata": {},
   "outputs": [],
   "source": [
    "sonata = df[df['Model'] == 'Sonata']"
   ]
  },
  {
   "cell_type": "code",
   "execution_count": 18,
   "id": "4dbd64af",
   "metadata": {},
   "outputs": [
    {
     "data": {
      "text/plain": [
       "count     1067.000000\n",
       "mean     14379.360825\n",
       "std      12867.215257\n",
       "min          3.000000\n",
       "25%       8545.500000\n",
       "50%      11917.000000\n",
       "75%      15681.000000\n",
       "max      73620.000000\n",
       "Name: Price, dtype: float64"
      ]
     },
     "execution_count": 18,
     "metadata": {},
     "output_type": "execute_result"
    }
   ],
   "source": [
    "sonata.Price.describe()"
   ]
  },
  {
   "cell_type": "markdown",
   "id": "7e0b6b11",
   "metadata": {},
   "source": [
    "We can see that Sonata with the difference of 3 compare to Prius has 50% of its cars sold at the price of 11,917 dollars, while the maximum price for a Sonata car is 73620 dollars. The lowest price listed on a Sonata car is $3"
   ]
  },
  {
   "cell_type": "code",
   "execution_count": 19,
   "id": "53500cec",
   "metadata": {},
   "outputs": [
    {
     "data": {
      "image/png": "[encoded data removed]",
      "text/plain": [
       "<Figure size 640x480 with 1 Axes>"
      ]
     },
     "metadata": {},
     "output_type": "display_data"
    }
   ],
   "source": [
    "# lets also take a look at car category which can also be refered to as car body type\n",
    "top_ten(df, 'Category', 'top 10 most frequent car category/body type',\n",
    "       'car category/body type', 'count')"
   ]
  },
  {
   "cell_type": "markdown",
   "id": "a2e2d933",
   "metadata": {},
   "source": [
    "As we can see, over 8,000 cars listed have **Sedan** body type followed by **Jeep** which have listing of approximately 6,000 cars. Both category or body types are the most purchased kind of cars."
   ]
  },
  {
   "cell_type": "code",
   "execution_count": 20,
   "id": "2d82e3bb",
   "metadata": {},
   "outputs": [
    {
     "data": {
      "image/png": "[encoded data removed]",
      "text/plain": [
       "<Figure size 640x480 with 1 Axes>"
      ]
     },
     "metadata": {},
     "output_type": "display_data"
    }
   ],
   "source": [
    "# lets also take a look at car Manufacturer \n",
    "top_ten(df, 'Manufacturer', 'top 10 most frequent car manufacturer',\n",
    "       'car manufacturer', 'count')"
   ]
  },
  {
   "cell_type": "markdown",
   "id": "5654f1d8",
   "metadata": {},
   "source": [
    "As we can see, More than 3,500 cars are from **HYUNDAI** manufacturer followed by **TOYOTA** manufacturer. Both manufacturer car are the most sold car."
   ]
  },
  {
   "cell_type": "code",
   "execution_count": 21,
   "id": "443f2057",
   "metadata": {},
   "outputs": [
    {
     "data": {
      "image/png": "[encoded data removed]",
      "text/plain": [
       "<Figure size 1000x500 with 1 Axes>"
      ]
     },
     "metadata": {},
     "output_type": "display_data"
    }
   ],
   "source": [
    "# Lets take a look at what fuel type is most common on the dataset\n",
    "plt.figure(figsize=[10,5])\n",
    "df['Fuel type'].value_counts()[:3].plot(kind='pie');"
   ]
  },
  {
   "cell_type": "code",
   "execution_count": 22,
   "id": "007c348f",
   "metadata": {},
   "outputs": [
    {
     "data": {
      "image/png": "[encoded data removed]",
      "text/plain": [
       "<Figure size 1000x500 with 1 Axes>"
      ]
     },
     "metadata": {},
     "output_type": "display_data"
    }
   ],
   "source": [
    "# Lets take a look at what Gear box type is most common on the dataset\n",
    "plt.figure(figsize=[10,5])\n",
    "df['Gear box type'].value_counts().plot(kind='pie');"
   ]
  },
  {
   "cell_type": "code",
   "execution_count": 23,
   "id": "3d0b8729",
   "metadata": {},
   "outputs": [
    {
     "data": {
      "image/png": "[encoded data removed]",
      "text/plain": [
       "<Figure size 640x480 with 1 Axes>"
      ]
     },
     "metadata": {},
     "output_type": "display_data"
    }
   ],
   "source": [
    "# lets get detauls about car mileage\n",
    "sns.boxplot(df['Mileage']);"
   ]
  },
  {
   "cell_type": "markdown",
   "id": "d8650fa9",
   "metadata": {},
   "source": [
    "From the above graph we can see that on average, most of the cars can travel 100,000,000(1x10^9)km per litre of fuel and we can see some outliers in the dataset."
   ]
  },
  {
   "cell_type": "code",
   "execution_count": 24,
   "id": "77635c29",
   "metadata": {},
   "outputs": [
    {
     "data": {
      "text/plain": [
       "count    18924.000000\n",
       "mean      2010.914236\n",
       "std          5.665749\n",
       "min       1939.000000\n",
       "25%       2009.000000\n",
       "50%       2012.000000\n",
       "75%       2015.000000\n",
       "max       2020.000000\n",
       "Name: Prod. year, dtype: float64"
      ]
     },
     "execution_count": 24,
     "metadata": {},
     "output_type": "execute_result"
    }
   ],
   "source": [
    "df['Prod. year'].describe()"
   ]
  },
  {
   "cell_type": "markdown",
   "id": "a9501b1f",
   "metadata": {},
   "source": [
    "## Model building"
   ]
  },
  {
   "cell_type": "markdown",
   "id": "ab0dbee7",
   "metadata": {},
   "source": [
    "- Encoding categorical columns"
   ]
  },
  {
   "cell_type": "code",
   "execution_count": 25,
   "id": "6ff304ca",
   "metadata": {},
   "outputs": [],
   "source": [
    "from sklearn.preprocessing import LabelEncoder"
   ]
  },
  {
   "cell_type": "code",
   "execution_count": 26,
   "id": "95ebd022",
   "metadata": {},
   "outputs": [],
   "source": [
    "label_encoder = LabelEncoder()"
   ]
  },
  {
   "cell_type": "code",
   "execution_count": 27,
   "id": "35de8004",
   "metadata": {},
   "outputs": [
    {
     "data": {
      "text/html": [
       "<div>\n",
       "<style scoped>\n",
       "    .dataframe tbody tr th:only-of-type {\n",
       "        vertical-align: middle;\n",
       "    }\n",
       "\n",
       "    .dataframe tbody tr th {\n",
       "        vertical-align: top;\n",
       "    }\n",
       "\n",
       "    .dataframe thead th {\n",
       "        text-align: right;\n",
       "    }\n",
       "</style>\n",
       "<table border=\"1\" class=\"dataframe\">\n",
       "  <thead>\n",
       "    <tr style=\"text-align: right;\">\n",
       "      <th></th>\n",
       "      <th>Price</th>\n",
       "      <th>Manufacturer</th>\n",
       "      <th>Model</th>\n",
       "      <th>Prod. year</th>\n",
       "      <th>Category</th>\n",
       "      <th>Fuel type</th>\n",
       "      <th>Mileage</th>\n",
       "      <th>Gear box type</th>\n",
       "      <th>Color</th>\n",
       "      <th>Airbags</th>\n",
       "    </tr>\n",
       "  </thead>\n",
       "  <tbody>\n",
       "    <tr>\n",
       "      <th>0</th>\n",
       "      <td>13328.0</td>\n",
       "      <td>32</td>\n",
       "      <td>1242</td>\n",
       "      <td>2010</td>\n",
       "      <td>4</td>\n",
       "      <td>2</td>\n",
       "      <td>186005.0</td>\n",
       "      <td>0</td>\n",
       "      <td>12</td>\n",
       "      <td>12</td>\n",
       "    </tr>\n",
       "    <tr>\n",
       "      <th>1</th>\n",
       "      <td>16621.0</td>\n",
       "      <td>8</td>\n",
       "      <td>658</td>\n",
       "      <td>2011</td>\n",
       "      <td>4</td>\n",
       "      <td>5</td>\n",
       "      <td>192000.0</td>\n",
       "      <td>2</td>\n",
       "      <td>1</td>\n",
       "      <td>8</td>\n",
       "    </tr>\n",
       "    <tr>\n",
       "      <th>2</th>\n",
       "      <td>8467.0</td>\n",
       "      <td>21</td>\n",
       "      <td>684</td>\n",
       "      <td>2006</td>\n",
       "      <td>3</td>\n",
       "      <td>5</td>\n",
       "      <td>200000.0</td>\n",
       "      <td>3</td>\n",
       "      <td>1</td>\n",
       "      <td>2</td>\n",
       "    </tr>\n",
       "    <tr>\n",
       "      <th>3</th>\n",
       "      <td>3607.0</td>\n",
       "      <td>16</td>\n",
       "      <td>661</td>\n",
       "      <td>2011</td>\n",
       "      <td>4</td>\n",
       "      <td>2</td>\n",
       "      <td>168966.0</td>\n",
       "      <td>0</td>\n",
       "      <td>14</td>\n",
       "      <td>0</td>\n",
       "    </tr>\n",
       "    <tr>\n",
       "      <th>4</th>\n",
       "      <td>11726.0</td>\n",
       "      <td>21</td>\n",
       "      <td>684</td>\n",
       "      <td>2014</td>\n",
       "      <td>3</td>\n",
       "      <td>5</td>\n",
       "      <td>91901.0</td>\n",
       "      <td>0</td>\n",
       "      <td>12</td>\n",
       "      <td>4</td>\n",
       "    </tr>\n",
       "  </tbody>\n",
       "</table>\n",
       "</div>"
      ],
      "text/plain": [
       "     Price  Manufacturer  Model  Prod. year  Category  Fuel type   Mileage  \\\n",
       "0  13328.0            32   1242        2010         4          2  186005.0   \n",
       "1  16621.0             8    658        2011         4          5  192000.0   \n",
       "2   8467.0            21    684        2006         3          5  200000.0   \n",
       "3   3607.0            16    661        2011         4          2  168966.0   \n",
       "4  11726.0            21    684        2014         3          5   91901.0   \n",
       "\n",
       "   Gear box type  Color  Airbags  \n",
       "0              0     12       12  \n",
       "1              2      1        8  \n",
       "2              3      1        2  \n",
       "3              0     14        0  \n",
       "4              0     12        4  "
      ]
     },
     "execution_count": 27,
     "metadata": {},
     "output_type": "execute_result"
    }
   ],
   "source": [
    "columns = ['Color','Manufacturer','Model',\n",
    "           'Fuel type', 'Category','Gear box type']\n",
    "\n",
    "for column in columns:\n",
    "    df[column] = label_encoder.fit_transform(df[column])\n",
    "    \n",
    "df.head()"
   ]
  },
  {
   "cell_type": "code",
   "execution_count": 28,
   "id": "072fc410",
   "metadata": {},
   "outputs": [],
   "source": [
    "#splitting dataset into dependent and independent variable\n",
    "X = df.drop('Price', axis=1)\n",
    "y = df['Price']"
   ]
  },
  {
   "cell_type": "code",
   "execution_count": 29,
   "id": "d5c46195",
   "metadata": {},
   "outputs": [
    {
     "data": {
      "text/html": [
       "<div>\n",
       "<style scoped>\n",
       "    .dataframe tbody tr th:only-of-type {\n",
       "        vertical-align: middle;\n",
       "    }\n",
       "\n",
       "    .dataframe tbody tr th {\n",
       "        vertical-align: top;\n",
       "    }\n",
       "\n",
       "    .dataframe thead th {\n",
       "        text-align: right;\n",
       "    }\n",
       "</style>\n",
       "<table border=\"1\" class=\"dataframe\">\n",
       "  <thead>\n",
       "    <tr style=\"text-align: right;\">\n",
       "      <th></th>\n",
       "      <th>Manufacturer</th>\n",
       "      <th>Model</th>\n",
       "      <th>Prod. year</th>\n",
       "      <th>Category</th>\n",
       "      <th>Fuel type</th>\n",
       "      <th>Mileage</th>\n",
       "      <th>Gear box type</th>\n",
       "      <th>Color</th>\n",
       "      <th>Airbags</th>\n",
       "    </tr>\n",
       "  </thead>\n",
       "  <tbody>\n",
       "    <tr>\n",
       "      <th>0</th>\n",
       "      <td>32</td>\n",
       "      <td>1242</td>\n",
       "      <td>2010</td>\n",
       "      <td>4</td>\n",
       "      <td>2</td>\n",
       "      <td>186005.0</td>\n",
       "      <td>0</td>\n",
       "      <td>12</td>\n",
       "      <td>12</td>\n",
       "    </tr>\n",
       "    <tr>\n",
       "      <th>1</th>\n",
       "      <td>8</td>\n",
       "      <td>658</td>\n",
       "      <td>2011</td>\n",
       "      <td>4</td>\n",
       "      <td>5</td>\n",
       "      <td>192000.0</td>\n",
       "      <td>2</td>\n",
       "      <td>1</td>\n",
       "      <td>8</td>\n",
       "    </tr>\n",
       "    <tr>\n",
       "      <th>2</th>\n",
       "      <td>21</td>\n",
       "      <td>684</td>\n",
       "      <td>2006</td>\n",
       "      <td>3</td>\n",
       "      <td>5</td>\n",
       "      <td>200000.0</td>\n",
       "      <td>3</td>\n",
       "      <td>1</td>\n",
       "      <td>2</td>\n",
       "    </tr>\n",
       "    <tr>\n",
       "      <th>3</th>\n",
       "      <td>16</td>\n",
       "      <td>661</td>\n",
       "      <td>2011</td>\n",
       "      <td>4</td>\n",
       "      <td>2</td>\n",
       "      <td>168966.0</td>\n",
       "      <td>0</td>\n",
       "      <td>14</td>\n",
       "      <td>0</td>\n",
       "    </tr>\n",
       "    <tr>\n",
       "      <th>4</th>\n",
       "      <td>21</td>\n",
       "      <td>684</td>\n",
       "      <td>2014</td>\n",
       "      <td>3</td>\n",
       "      <td>5</td>\n",
       "      <td>91901.0</td>\n",
       "      <td>0</td>\n",
       "      <td>12</td>\n",
       "      <td>4</td>\n",
       "    </tr>\n",
       "    <tr>\n",
       "      <th>...</th>\n",
       "      <td>...</td>\n",
       "      <td>...</td>\n",
       "      <td>...</td>\n",
       "      <td>...</td>\n",
       "      <td>...</td>\n",
       "      <td>...</td>\n",
       "      <td>...</td>\n",
       "      <td>...</td>\n",
       "      <td>...</td>\n",
       "    </tr>\n",
       "    <tr>\n",
       "      <th>19232</th>\n",
       "      <td>36</td>\n",
       "      <td>385</td>\n",
       "      <td>1999</td>\n",
       "      <td>1</td>\n",
       "      <td>0</td>\n",
       "      <td>300000.0</td>\n",
       "      <td>1</td>\n",
       "      <td>12</td>\n",
       "      <td>5</td>\n",
       "    </tr>\n",
       "    <tr>\n",
       "      <th>19233</th>\n",
       "      <td>23</td>\n",
       "      <td>1334</td>\n",
       "      <td>2011</td>\n",
       "      <td>9</td>\n",
       "      <td>5</td>\n",
       "      <td>161600.0</td>\n",
       "      <td>2</td>\n",
       "      <td>11</td>\n",
       "      <td>8</td>\n",
       "    </tr>\n",
       "    <tr>\n",
       "      <th>19234</th>\n",
       "      <td>23</td>\n",
       "      <td>1442</td>\n",
       "      <td>2010</td>\n",
       "      <td>4</td>\n",
       "      <td>1</td>\n",
       "      <td>116365.0</td>\n",
       "      <td>0</td>\n",
       "      <td>7</td>\n",
       "      <td>4</td>\n",
       "    </tr>\n",
       "    <tr>\n",
       "      <th>19235</th>\n",
       "      <td>8</td>\n",
       "      <td>456</td>\n",
       "      <td>2007</td>\n",
       "      <td>4</td>\n",
       "      <td>1</td>\n",
       "      <td>51258.0</td>\n",
       "      <td>0</td>\n",
       "      <td>1</td>\n",
       "      <td>4</td>\n",
       "    </tr>\n",
       "    <tr>\n",
       "      <th>19236</th>\n",
       "      <td>23</td>\n",
       "      <td>1334</td>\n",
       "      <td>2012</td>\n",
       "      <td>9</td>\n",
       "      <td>2</td>\n",
       "      <td>186923.0</td>\n",
       "      <td>0</td>\n",
       "      <td>14</td>\n",
       "      <td>12</td>\n",
       "    </tr>\n",
       "  </tbody>\n",
       "</table>\n",
       "<p>18924 rows × 9 columns</p>\n",
       "</div>"
      ],
      "text/plain": [
       "       Manufacturer  Model  Prod. year  Category  Fuel type   Mileage  \\\n",
       "0                32   1242        2010         4          2  186005.0   \n",
       "1                 8    658        2011         4          5  192000.0   \n",
       "2                21    684        2006         3          5  200000.0   \n",
       "3                16    661        2011         4          2  168966.0   \n",
       "4                21    684        2014         3          5   91901.0   \n",
       "...             ...    ...         ...       ...        ...       ...   \n",
       "19232            36    385        1999         1          0  300000.0   \n",
       "19233            23   1334        2011         9          5  161600.0   \n",
       "19234            23   1442        2010         4          1  116365.0   \n",
       "19235             8    456        2007         4          1   51258.0   \n",
       "19236            23   1334        2012         9          2  186923.0   \n",
       "\n",
       "       Gear box type  Color  Airbags  \n",
       "0                  0     12       12  \n",
       "1                  2      1        8  \n",
       "2                  3      1        2  \n",
       "3                  0     14        0  \n",
       "4                  0     12        4  \n",
       "...              ...    ...      ...  \n",
       "19232              1     12        5  \n",
       "19233              2     11        8  \n",
       "19234              0      7        4  \n",
       "19235              0      1        4  \n",
       "19236              0     14       12  \n",
       "\n",
       "[18924 rows x 9 columns]"
      ]
     },
     "execution_count": 29,
     "metadata": {},
     "output_type": "execute_result"
    }
   ],
   "source": [
    "X"
   ]
  },
  {
   "cell_type": "code",
   "execution_count": 30,
   "id": "adc038aa",
   "metadata": {},
   "outputs": [
    {
     "data": {
      "text/plain": [
       "0    13328.0\n",
       "1    16621.0\n",
       "2     8467.0\n",
       "3     3607.0\n",
       "4    11726.0\n",
       "Name: Price, dtype: float64"
      ]
     },
     "execution_count": 30,
     "metadata": {},
     "output_type": "execute_result"
    }
   ],
   "source": [
    "y.head()"
   ]
  },
  {
   "cell_type": "code",
   "execution_count": 31,
   "id": "31d42269",
   "metadata": {},
   "outputs": [],
   "source": [
    "from sklearn.model_selection import train_test_split\n",
    "x_train, x_test, y_train, y_test = train_test_split(X, y, test_size=0.2, random_state=0)"
   ]
  },
  {
   "cell_type": "code",
   "execution_count": 32,
   "id": "432d7131",
   "metadata": {},
   "outputs": [],
   "source": [
    "from sklearn.ensemble import RandomForestRegressor\n",
    "from sklearn.svm import SVR\n",
    "from sklearn.tree import DecisionTreeRegressor"
   ]
  },
  {
   "cell_type": "code",
   "execution_count": 33,
   "id": "ad8c5532",
   "metadata": {},
   "outputs": [],
   "source": [
    "from sklearn.metrics import r2_score, mean_absolute_error, mean_squared_error"
   ]
  },
  {
   "cell_type": "markdown",
   "id": "467dc66d",
   "metadata": {},
   "source": [
    "### Support Vector Regression"
   ]
  },
  {
   "cell_type": "code",
   "execution_count": 34,
   "id": "e5ccbfcb",
   "metadata": {},
   "outputs": [],
   "source": [
    "svr = SVR()\n",
    "svr.fit(x_train, y_train)\n",
    "svr_pred = svr.predict(x_test)"
   ]
  },
  {
   "cell_type": "code",
   "execution_count": 35,
   "id": "feceee55",
   "metadata": {},
   "outputs": [
    {
     "name": "stdout",
     "output_type": "stream",
     "text": [
      "r2 score = -0.03822662402127408\n",
      "MAE = 12258.702931694173\n",
      "MSE = 591786258.9768342\n",
      "RMSE = 24326.657373688522\n"
     ]
    }
   ],
   "source": [
    "print(f'r2 score = {r2_score(y_test, svr_pred)}')\n",
    "print(f'MAE = {mean_absolute_error(y_test, svr_pred)}')\n",
    "print(f'MSE = {mean_squared_error(y_test, svr_pred)}')\n",
    "print(f'RMSE = {np.sqrt(mean_squared_error(y_test, svr_pred))}')"
   ]
  },
  {
   "cell_type": "markdown",
   "id": "b8a905e6",
   "metadata": {},
   "source": [
    "### Random Forest"
   ]
  },
  {
   "cell_type": "code",
   "execution_count": 36,
   "id": "3e5f834e",
   "metadata": {},
   "outputs": [],
   "source": [
    "rand = RandomForestRegressor()\n",
    "rand.fit(x_train, y_train)\n",
    "rand_pred = rand.predict(x_test)"
   ]
  },
  {
   "cell_type": "code",
   "execution_count": 37,
   "id": "effe4455",
   "metadata": {},
   "outputs": [
    {
     "name": "stdout",
     "output_type": "stream",
     "text": [
      "r2 score = -18.209560722639807\n",
      "MAE = 9207.958862358324\n",
      "MSE = 10949395646.018808\n",
      "RMSE = 104639.35992741359\n"
     ]
    }
   ],
   "source": [
    "print(f'r2 score = {r2_score(y_test, rand_pred)}')\n",
    "print(f'MAE = {mean_absolute_error(y_test, rand_pred)}')\n",
    "print(f'MSE = {mean_squared_error(y_test, rand_pred)}')\n",
    "print(f'RMSE = {np.sqrt(mean_squared_error(y_test, rand_pred))}')"
   ]
  },
  {
   "cell_type": "markdown",
   "id": "acfea78a",
   "metadata": {},
   "source": [
    "### Decision Tree"
   ]
  },
  {
   "cell_type": "code",
   "execution_count": 38,
   "id": "be6938d6",
   "metadata": {},
   "outputs": [],
   "source": [
    "tree = DecisionTreeRegressor()\n",
    "tree.fit(x_train, y_train)\n",
    "tree_pred = tree.predict(x_test)"
   ]
  },
  {
   "cell_type": "code",
   "execution_count": 39,
   "id": "1668e4ae",
   "metadata": {},
   "outputs": [
    {
     "name": "stdout",
     "output_type": "stream",
     "text": [
      "r2 score = 0.1445412643908871\n",
      "MAE = 7087.597440884447\n",
      "MSE = 487609076.03617394\n",
      "RMSE = 22081.872113481997\n"
     ]
    }
   ],
   "source": [
    "print(f'r2 score = {r2_score(y_test, tree_pred)}')\n",
    "print(f'MAE = {mean_absolute_error(y_test, tree_pred)}')\n",
    "print(f'MSE = {mean_squared_error(y_test, tree_pred)}')\n",
    "print(f'RMSE = {np.sqrt(mean_squared_error(y_test, tree_pred))}')"
   ]
  },
  {
   "cell_type": "markdown",
   "id": "55c16032",
   "metadata": {},
   "source": [
    "### Model Evaluation"
   ]
  },
  {
   "cell_type": "markdown",
   "id": "e3e951a9",
   "metadata": {},
   "source": [
    "From among the Three models, Decision Tree Regressor performed better accross all metrics and should be used "
   ]
  },
  {
   "cell_type": "code",
   "execution_count": 40,
   "id": "84f76c3e",
   "metadata": {},
   "outputs": [
    {
     "name": "stdout",
     "output_type": "stream",
     "text": [
      "r2 scores\n",
      "SVR: -0.040285 (0.013677)\n",
      "DTC: -435.547528 (946.978091)\n",
      "RANDF: -76.536580 (126.965482)\n",
      "MAE Scores\n",
      "MAE = 12258.702931694173\n",
      "MAE = 7087.597440884447\n",
      "MAE = 9207.958862358324\n",
      "MSE Scores\n",
      "MSE = 591786258.9768342\n",
      "MSE = 487609076.03617394\n",
      "MSE = 10949395646.018808\n",
      "RMSE Scores\n",
      "RMSE = 24326.657373688522\n",
      "RMSE = 22081.872113481997\n",
      "RMSE = 104639.35992741359\n"
     ]
    }
   ],
   "source": [
    "from scipy.stats import loguniform\n",
    "from sklearn.model_selection import RandomizedSearchCV, RepeatedStratifiedKFold\n",
    "from sklearn.metrics import make_scorer\n",
    "from sklearn.model_selection import cross_validate\n",
    "#Compare Evaluation metrics\n",
    "print(\"r2 scores\")\n",
    "from sklearn import model_selection\n",
    "seed =0\n",
    "models = []\n",
    "models.append(('SVR', svr))\n",
    "models.append(('DTC', tree))\n",
    "models.append(('RANDF', rand))\n",
    "\n",
    "# evaluate each model in turn\n",
    "results = []\n",
    "names = []\n",
    "scoring=('r2')\n",
    "for name, model in models:\n",
    "\tkfold = RepeatedStratifiedKFold(n_splits=10,n_repeats=3,)\n",
    "\tcv_results = model_selection.cross_val_score(model, x_train, y_train, cv=kfold, scoring=scoring)\n",
    "\tresults.append(cv_results)\n",
    "\tnames.append(name)\n",
    "\tStats = \"%s: %f (%f)\" % (name, cv_results.mean(), cv_results.std())\n",
    "\tprint(Stats)\n",
    "\n",
    "print('MAE Scores')\n",
    "print(f'MAE = {mean_absolute_error(y_test, svr_pred)}')\n",
    "print(f'MAE = {mean_absolute_error(y_test, tree_pred)}')\n",
    "print(f'MAE = {mean_absolute_error(y_test, rand_pred)}')\n",
    "print('MSE Scores')\n",
    "print(f'MSE = {mean_squared_error(y_test, svr_pred)}')\n",
    "print(f'MSE = {mean_squared_error(y_test, tree_pred)}')\n",
    "print(f'MSE = {mean_squared_error(y_test, rand_pred)}')\n",
    "print('RMSE Scores')\n",
    "print(f'RMSE = {np.sqrt(mean_squared_error(y_test, svr_pred))}')\n",
    "print(f'RMSE = {np.sqrt(mean_squared_error(y_test, tree_pred))}')\n",
    "print(f'RMSE = {np.sqrt(mean_squared_error(y_test, rand_pred))}')"
   ]
  },
  {
   "cell_type": "code",
   "execution_count": 42,
   "id": "6f5dda08",
   "metadata": {},
   "outputs": [
    {
     "data": {
      "image/png": "[encoded data removed]",
      "text/plain": [
       "<Figure size 1300x800 with 1 Axes>"
      ]
     },
     "metadata": {},
     "output_type": "display_data"
    }
   ],
   "source": [
    "# boxplot algorithm comparison\n",
    "fig = plt.figure(figsize=(13,8))\n",
    "fig.suptitle(\"Fig. 8- Model Comparison\",y=-.0001)\n",
    "ax = fig.add_subplot(111)\n",
    "medianprops = {'color': 'red', 'linewidth': 2}\n",
    "boxprops = {'color': 'black', 'linewidth': 3,'linestyle': '-'}\n",
    "whiskerprops = {'color': 'green', 'linewidth': 2,'linestyle': '-'}\n",
    "capprops = {'color': 'brown',  'linewidth': 2,'linestyle': '-'}\n",
    "flierprops = {'color': 'purple', 'marker': 'o'}\n",
    "plt.boxplot(results,       \n",
    "           medianprops=medianprops,\n",
    "           boxprops=boxprops,\n",
    "           whiskerprops=whiskerprops,\n",
    "           capprops=capprops,\n",
    "           flierprops=flierprops)\n",
    "ax.set_xticklabels(names)\n",
    "plt.show()\n",
    "fig.savefig('compare.png')"
   ]
  }
 ],
 "metadata": {
  "kernelspec": {
   "display_name": "Python 3 (ipykernel)",
   "language": "python",
   "name": "python3"
  },
  "language_info": {
   "codemirror_mode": {
    "name": "ipython",
    "version": 3
   },
   "file_extension": ".py",
   "mimetype": "text/x-python",
   "name": "python",
   "nbconvert_exporter": "python",
   "pygments_lexer": "ipython3",
   "version": "3.9.12"
  },
  "varInspector": {
   "cols": {
    "lenName": 16,
    "lenType": 16,
    "lenVar": 40
   },
   "kernels_config": {
    "python": {
     "delete_cmd_postfix": "",
     "delete_cmd_prefix": "del ",
     "library": "var_list.py",
     "varRefreshCmd": "print(var_dic_list())"
    },
    "r": {
     "delete_cmd_postfix": ") ",
     "delete_cmd_prefix": "rm(",
     "library": "var_list.r",
     "varRefreshCmd": "cat(var_dic_list()) "
    }
   },
   "types_to_exclude": [
    "module",
    "function",
    "builtin_function_or_method",
    "instance",
    "_Feature"
   ],
   "window_display": false
  },
  "vscode": {
   "interpreter": {
    "hash": "2dff999a0d4b01763e4f7f3a15b6aaf81a24fa4b712021741d409a1b98c3127d"
   }
  }
 },
 "nbformat": 4,
 "nbformat_minor": 5
}
